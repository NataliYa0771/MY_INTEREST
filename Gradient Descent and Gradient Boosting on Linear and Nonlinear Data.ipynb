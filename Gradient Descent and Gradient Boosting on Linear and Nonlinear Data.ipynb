{
 "cells": [
  {
   "cell_type": "markdown",
   "metadata": {},
   "source": [
    "# Градиентный спуск и Градиентный бустинг"
   ]
  },
  {
   "cell_type": "markdown",
   "metadata": {},
   "source": [
    "### В этом ноутбуке \n",
    "\n",
    "- Реализован **градиентный спуск вручную** в сравнении сравнили с `LinearRegression`\n",
    "- Реализован **градиентный бустинг вручную** в сравнении с `GradientBoostingRegressor`\n",
    "- Использован **один и тот же датасет с линейной зависимостью**: 40 объектов, 3 признака с разделением на `train/test` (80/20)\n",
    "- Использованы **одинаковые параметры:**\n",
    "\n",
    "  - n_trees = 3\n",
    "    \n",
    "  - learning_rate = 0.96\n",
    "\n",
    "  - max_depth = 2\n",
    "\n",
    "- Затем реализован `LinearRegression` и `GradientBoostingRegressor` на **одном и тот же датасете с НЕлинейной зависимостью** (40 объектов, 3 признака)\n",
    "\n",
    "\n",
    "Ниже - теория, анализ, код.\n",
    "\n",
    "## Градиентный спуск: \n",
    "\n",
    "**Градиентный спуск (Gradient Descent)** — это метод оптимизации, используемый для нахождения минимума функции потерь (например, MSE).\n",
    "\n",
    "###  Как работает:\n",
    "1. Начинаем с начальных весов $ w_0, w_1, w_2 $\n",
    "2. Вычисляем градиент функции потерь\n",
    "3. Обновляем веса:  \n",
    "   $\n",
    "   w := w - \\alpha \\cdot \\nabla_w \\text{Loss}\n",
    "   $\n",
    "4. Повторяем, пока не сошлось\n",
    "\n",
    "### Плюсы:\n",
    "- Прост в реализации\n",
    "- Идеален для **линейных зависимостей**\n",
    "- Быстро сходится на хорошо масштабированных данных\n",
    "\n",
    "###  Минусы:\n",
    "- Требует подбора `learning_rate`\n",
    "- Не умеет находить нелинейные зависимости\n",
    "- Чувствителен к масштабу признаков\n",
    "\n",
    "### Применяется для:\n",
    "- Линейной регрессии\n",
    "- Логистической регрессии\n",
    "- Нейронных сетей\n",
    "\n",
    "---\n",
    "\n",
    "##  Градиентный бустинг\n",
    "\n",
    "**Градиентный бустинг (Gradient Boosting)** — это **ансамблевый метод**, в котором модели строятся **последовательно**, и каждая следующая исправляет ошибки предыдущей.\n",
    "\n",
    "###  Как работает:\n",
    "1. Начинаем с константного предсказания (например, 0)\n",
    "2. Считаем остатки: $ r = y - \\hat{y} $\n",
    "3. Обучаем **слабую модель** (дерево) на остатках\n",
    "4. Добавляем предсказания с шагом $ \\alpha $:  \n",
    "   $\n",
    "   \\hat{y} := \\hat{y} + \\alpha \\cdot \\text{tree\\_pred}\n",
    "   $\n",
    "5. Повторяем $ N $ раз\n",
    "\n",
    "Это **градиентный спуск в пространстве функций**, а не параметров.\n",
    "Мы ищем оптимальную предсказывающую функцию $ F(x) $, делая итеративные шаги в направлении, противоположном градиенту функции потерь, но шаг — это добавление новой функции (например, дерева), а не изменение числовых параметров.\n",
    "\n",
    "**В классическом градиентном спуске** (например, в линейной регрессии или нейронных сетях) мы начинаем с некоторого набора параметров $ \\mathbf{w} $ и на каждой итерации обновляем их по правилу:\n",
    "\n",
    "$$\n",
    "\\mathbf{w} \\leftarrow \\mathbf{w} - \\eta \\nabla_{\\mathbf{w}} L(\\mathbf{w})\n",
    "$$\n",
    "\n",
    "Здесь модель фиксирована по форме (например, $ f(x) = \\mathbf{w}^T \\mathbf{x} $), и мы просто подбираем **параметры** этой функции, двигаясь в пространстве $ \\mathbb{R}^d $, где $ d $ — количество весов.\n",
    "\n",
    "В **функциональном градиентном спуске**, напротив, мы не ограничиваемся фиксированной моделью. Вместо этого мы представляем итоговую модель как композицию:\n",
    "\n",
    "$$\n",
    "F_T(x) = \\sum_{t=0}^T \\eta h_t(x)\n",
    "$$\n",
    "\n",
    "На каждом шаге мы ищем новую функцию $ h_t(x) $, которая наилучшим образом приближает **отрицательный градиент потерь по предсказаниям** — так называемые *\"псевдо-остатки\"*.\n",
    "\n",
    "Таким образом, мы:\n",
    "- Не обновляем параметры одной и той же функции,\n",
    "- А **постепенно строим сложную функцию** из простых \"слагаемых\",\n",
    "- И оптимизация происходит в **пространстве функций**, а не в пространстве векторов параметров.\n",
    "\n",
    "---\n",
    "\n",
    "###  Ключевое отличие\n",
    "\n",
    "| Аспект | Классический градиентный спуск | Функциональный градиентный спуск (бустинг) |\n",
    "|-------|-------------------------------|------------------------------------------|\n",
    "| **Что оптимизируется** | Параметры $ \\mathbf{w} $ | Сама предсказывающая функция $ F(x) $ |\n",
    "| **Пространство поиска** | Конечномерное: $ \\mathbb{R}^d $ | Бесконечномерное: пространство функций |\n",
    "| **Шаг алгоритма** | Обновление числовых весов | Добавление новой базовой модели (например, дерева) |\n",
    "| **Модель** | Фиксированная структура | Растёт итеративно (ансамбль) |\n",
    "| **Градиент берётся по** | Параметрам $ \\mathbf{w} $ | Предсказаниям $ F(x_i) $ |\n",
    "\n",
    "---\n",
    "\n",
    "- В обычном спуске: *\"Как изменить веса, чтобы стало лучше?\"*\n",
    "- В функциональном спуске: *\"Какую новую функцию добавить, чтобы исправить ошибки текущей?\"*\n",
    "\n",
    "Именно поэтому градиентный бустинг так силён — он **адаптивно строит модель**, а не просто подстраивает параметры под данные.\n",
    "\n",
    "\n",
    "\n",
    "###  Плюсы:\n",
    "- Отличная точность\n",
    "- Умеет находить **нелинейные зависимости**\n",
    "- Работает \"из коробки\" на разнотипных данных\n",
    "\n",
    "### Минусы:\n",
    "- Склонен к переобучению\n",
    "- Требует подбора гиперпараметров\n",
    "- Медленнее, чем линейные модели\n",
    "\n",
    "### Применяется для:\n",
    "- Регрессии и классификации\n",
    "- Соревнований (Kaggle)\n",
    "- Продакшн-моделей (XGBoost, CatBoost)\n",
    "\n",
    "---\n",
    "\n",
    "### Сравнение моделей\n",
    "\n",
    "| Критерий | Градиентный спуск | Градиентный бустинг |\n",
    "|---------|--------------------|----------------------|\n",
    "| **Тип модели** | Линейная | Нелинейная (ансамбль деревьев) |\n",
    "| **Скорость** | Быстро | Медленнее |\n",
    "| **Точность** | Высокая (на линейных данных) | Очень высокая (на нелинейных) |\n",
    "| **Обучение** | Параллельное | Последовательное |\n",
    "| **Переобучение** | Редко | Возможное (при больших `lr`) |\n",
    "| **Интерпретируемость** | Высокая (веса) | Средняя (важность признаков) |\n",
    "| **Чувствителен к масштабу** | Да | Нет |\n",
    "\n",
    "---"
   ]
  },
  {
   "cell_type": "code",
   "execution_count": 104,
   "metadata": {},
   "outputs": [],
   "source": [
    "import numpy as np\n",
    "import pandas as pd\n",
    "import matplotlib.pyplot as plt\n",
    "from sklearn.model_selection import train_test_split\n",
    "from sklearn.metrics import mean_squared_error, mean_absolute_error, r2_score\n",
    "from sklearn.linear_model import LinearRegression\n",
    "from sklearn.ensemble import GradientBoostingRegressor"
   ]
  },
  {
   "cell_type": "code",
   "execution_count": 105,
   "metadata": {},
   "outputs": [
    {
     "name": "stdout",
     "output_type": "stream",
     "text": [
      "Размер обучающей выборки: 32\n",
      "Размер тестовой выборки: 8\n"
     ]
    }
   ],
   "source": [
    "# Создаём датасет с линейными зависимостями\n",
    "data = {\n",
    "    'площадь':       [40, 50, 60, 70, 80, 90, 100, 110, 120, 130,   \n",
    "                      45, 55, 65, 75, 85, 95, 105, 115, 125, 135,  \n",
    "                      50, 60, 70, 80, 90, 100, 110, 120, 130, 140, \n",
    "                      52, 68, 77, 88, 98, 108, 118, 128, 138, 145], \n",
    "\n",
    "    'число_комнат':  [1,  2,  2,  3,  3,  4,   4,   5,   5,   6,\n",
    "                      1,  2,  3,  3,  4,  4,   5,   5,   6,   6,\n",
    "                      2,  3,  3,  4,  4,  5,   5,   6,   6,   7,\n",
    "                      2,  3,  4,  4,  5,  5,   6,   6,   7,   7],\n",
    "\n",
    "    'этаж':          [2,  3,  5,  1,  4,  6,   2,   7,   3,   5,\n",
    "                      1,  4,  2,  6,  3,  1,   4,   5,   6,   7,\n",
    "                      1,  2,  4,  5,  7,  3,   6,   1,   4,   2,\n",
    "                      3,  5,  1,  6,  2,   4,   7,   3,   5,   6],\n",
    "\n",
    "    'цена':          [30, 45, 50, 60, 70, 85,  90,  100, 110, 120,  \n",
    "                      34, 48, 54, 63, 72, 82,  94,  103, 115, 122,  \n",
    "                      46, 56, 65, 75, 86, 96,  106, 116, 126, 136,  \n",
    "                      47, 58, 66, 78, 89, 98,  109, 118, 129, 140]  \n",
    "}\n",
    "df = pd.DataFrame(data)\n",
    "\n",
    "# Признаки и целевая переменная\n",
    "X = df[['площадь', 'число_комнат', 'этаж']].values\n",
    "y = df['цена'].values\n",
    "\n",
    "# Разделение на train и test (80% / 20%)\n",
    "X_train, X_test, y_train, y_test = train_test_split(X, y, test_size=0.2, random_state=42)\n",
    "from sklearn.preprocessing import StandardScaler\n",
    "scaler = StandardScaler()\n",
    "X_train = scaler.fit_transform(X_train)\n",
    "X_test = scaler.transform(X_test)\n",
    "\n",
    "print(f\"Размер обучающей выборки: {X_train.shape[0]}\")\n",
    "print(f\"Размер тестовой выборки: {X_test.shape[0]}\")"
   ]
  },
  {
   "cell_type": "code",
   "execution_count": 106,
   "metadata": {},
   "outputs": [
    {
     "data": {
      "image/png": "[encoded data removed]",
      "text/plain": [
       "<Figure size 1080x360 with 3 Axes>"
      ]
     },
     "metadata": {
      "needs_background": "light"
     },
     "output_type": "display_data"
    }
   ],
   "source": [
    "# посмотрим зависимости\n",
    "fig, axes = plt.subplots(1, 3, figsize=(15, 5))\n",
    "fig.suptitle(\"Зависимость цены от признаков\", fontsize=16)\n",
    "\n",
    "axes[0].scatter(df['площадь'], df['цена'], alpha=0.7)\n",
    "axes[0].set_xlabel('Площадь (м²)')\n",
    "axes[0].set_ylabel('Цена')\n",
    "axes[0].grid(True, alpha=0.3)\n",
    "\n",
    "axes[1].scatter(df['число_комнат'], df['цена'], alpha=0.7, color='green')\n",
    "axes[1].set_xlabel('Число комнат')\n",
    "axes[1].set_ylabel('Цена')\n",
    "axes[1].grid(True, alpha=0.3)\n",
    "\n",
    "axes[2].scatter(df['этаж'], df['цена'], alpha=0.7, color='orange')\n",
    "axes[2].set_xlabel('Этаж')\n",
    "axes[2].set_ylabel('Цена')\n",
    "axes[2].grid(True, alpha=0.3)\n",
    "\n",
    "plt.tight_layout()\n",
    "plt.show()"
   ]
  },
  {
   "cell_type": "code",
   "execution_count": 107,
   "metadata": {},
   "outputs": [
    {
     "name": "stdout",
     "output_type": "stream",
     "text": [
      "Корреляция с ценой:\n",
      "площадь         0.995\n",
      "число_комнат    0.981\n",
      "этаж            0.375\n",
      "Name: цена, dtype: float64\n"
     ]
    }
   ],
   "source": [
    "corr = df.corr()['цена']\n",
    "print(\"Корреляция с ценой:\")\n",
    "print(corr[['площадь', 'число_комнат', 'этаж']].round(3))"
   ]
  },
  {
   "cell_type": "code",
   "execution_count": 108,
   "metadata": {},
   "outputs": [
    {
     "data": {
      "image/png": "[encoded data removed]",
      "text/plain": [
       "<Figure size 576x432 with 1 Axes>"
      ]
     },
     "metadata": {
      "needs_background": "light"
     },
     "output_type": "display_data"
    }
   ],
   "source": [
    "X = df[['площадь', 'число_комнат', 'этаж']]\n",
    "y = df['цена']\n",
    "\n",
    "model = LinearRegression()\n",
    "model.fit(X, y)\n",
    "y_pred = model.predict(X)\n",
    "residuals = y - y_pred\n",
    "\n",
    "plt.figure(figsize=(8, 6))\n",
    "plt.scatter(y_pred, residuals, alpha=0.7)\n",
    "plt.axhline(0, color='red', linestyle='--', linewidth=2)\n",
    "plt.xlabel('Предсказанная цена')\n",
    "plt.ylabel('Остаток')\n",
    "plt.title('Остатки линейной модели')\n",
    "plt.grid(True, alpha=0.3)\n",
    "plt.show()"
   ]
  },
  {
   "cell_type": "markdown",
   "metadata": {},
   "source": [
    "## ГРАДИЕНТНЫЙ СПУСК"
   ]
  },
  {
   "cell_type": "markdown",
   "metadata": {},
   "source": [
    "### Градиентный спуск вручную"
   ]
  },
  {
   "cell_type": "code",
   "execution_count": 109,
   "metadata": {},
   "outputs": [
    {
     "name": "stdout",
     "output_type": "stream",
     "text": [
      "\n",
      "Финальные веса (ручной GD): w0 = 82.031, w = [23.69129013  6.71343108  0.04981118]\n"
     ]
    }
   ],
   "source": [
    "X = df[['площадь', 'число_комнат', 'этаж']].values  \n",
    "y = df['цена'].values               \n",
    "\n",
    "# Параметры\n",
    "w0 = 0.0\n",
    "w = np.zeros(3)\n",
    "alpha = 0.004\n",
    "epochs = 10000\n",
    "tolerance = 1e-6\n",
    "prev_loss = float('inf')\n",
    "\n",
    "for epoch in range(epochs):\n",
    "    y_pred_train = w0 + X_train.dot(w)\n",
    "    error = y_train - y_pred_train\n",
    "    loss = np.mean(error ** 2)\n",
    "    \n",
    "    # Проверка на сходимость\n",
    "    if abs(prev_loss - loss) < tolerance:\n",
    "        print(f\"Сошлось на эпохе {epoch}\")\n",
    "        break\n",
    "    prev_loss = loss\n",
    "    \n",
    "    # Градиенты\n",
    "    grad_w0 = -2 * np.mean(error)\n",
    "    grad_w = -2 * np.mean(error.reshape(-1, 1) * X_train, axis=0)\n",
    "    \n",
    "    # Обновление весов\n",
    "    w0 -= alpha * grad_w0\n",
    "    w -= alpha * grad_w\n",
    "\n",
    "print(f\"\\nФинальные веса (ручной GD): w0 = {w0:.3f}, w = {w}\")\n",
    "\n",
    "# Предсказания\n",
    "y_train_pred = w0 + X_train.dot(w)\n",
    "y_test_pred = w0 + X_test.dot(w)"
   ]
  },
  {
   "cell_type": "code",
   "execution_count": 111,
   "metadata": {},
   "outputs": [
    {
     "data": {
      "image/png": "[encoded data removed]",
      "text/plain": [
       "<Figure size 576x432 with 1 Axes>"
      ]
     },
     "metadata": {
      "needs_background": "light"
     },
     "output_type": "display_data"
    }
   ],
   "source": [
    "plt.figure(figsize=(8, 6))\n",
    "plt.scatter(y_test, y_test_pred, c='blue', alpha=0.7, label='Тестовые данные')\n",
    "plt.plot([y_test.min(), y_test.max()], [y_test.min(), y_test.max()], 'r--', lw=2, label='y = x')\n",
    "plt.xlabel('Истинная цена')\n",
    "plt.ylabel('Предсказанная цена')\n",
    "plt.title('Тест: Истинные vs Предсказанные (ручной GD)')\n",
    "plt.legend()\n",
    "plt.grid(True, alpha=0.3)\n",
    "plt.tight_layout()\n",
    "plt.show()"
   ]
  },
  {
   "cell_type": "code",
   "execution_count": 112,
   "metadata": {},
   "outputs": [
    {
     "data": {
      "image/png": "[encoded data removed]",
      "text/plain": [
       "<Figure size 576x432 with 1 Axes>"
      ]
     },
     "metadata": {
      "needs_background": "light"
     },
     "output_type": "display_data"
    }
   ],
   "source": [
    "residuals_test = y_test - y_test_pred\n",
    "\n",
    "plt.figure(figsize=(8, 6))\n",
    "plt.scatter(y_test_pred, residuals_test, c='green', alpha=0.7)\n",
    "plt.axhline(0, color='red', linestyle='--', lw=2)\n",
    "plt.xlabel('Предсказанная цена')\n",
    "plt.ylabel('Остаток (ошибка)')\n",
    "plt.title('Тест: Остатки модели')\n",
    "plt.grid(True, alpha=0.3)\n",
    "plt.show()"
   ]
  },
  {
   "cell_type": "code",
   "execution_count": 113,
   "metadata": {
    "scrolled": true
   },
   "outputs": [
    {
     "name": "stdout",
     "output_type": "stream",
     "text": [
      "\n",
      " Метрики РУЧНОГО ГРАДИЕНТНОГО СПУСКА:\n",
      "\n",
      " Метрики качества на обучающей выборке (train):\n",
      "  MSE:  7.844\n",
      "  RMSE: 2.801\n",
      "  MAE:  2.445\n",
      "  R²:   0.9916\n",
      "  MAPE: 3.29%\n",
      "\n",
      " Метрики качества на тестовой выборке (test):\n",
      "  MSE:  10.309\n",
      "  RMSE: 3.211\n",
      "  MAE:  2.871\n",
      "  R²:   0.9808\n",
      "  MAPE: 3.27%\n"
     ]
    }
   ],
   "source": [
    "# Метрики на обучающей выборке\n",
    "y_train_pred = w0 + X_train.dot(w)  # предсказания на train\n",
    "\n",
    "mse_train = mean_squared_error(y_train, y_train_pred)\n",
    "rmse_train = mean_squared_error(y_train, y_train_pred, squared=False)\n",
    "mae_train = mean_absolute_error(y_train, y_train_pred)\n",
    "r2_train = r2_score(y_train, y_train_pred)\n",
    "mape_train = np.mean(np.abs((y_train - y_train_pred) / y_train)) * 100\n",
    "\n",
    "# Метрики на тестовой выборке \n",
    "mse_test = mean_squared_error(y_test, y_test_pred)\n",
    "rmse_test = mean_squared_error(y_test, y_test_pred, squared=False)\n",
    "mae_test = mean_absolute_error(y_test, y_test_pred)\n",
    "r2_test = r2_score(y_test, y_test_pred)\n",
    "mape_test = np.mean(np.abs((y_test - y_test_pred) / y_test)) * 100\n",
    "\n",
    "print(\"\\n Метрики РУЧНОГО ГРАДИЕНТНОГО СПУСКА:\")\n",
    "print(\"\\n Метрики качества на обучающей выборке (train):\")\n",
    "print(f\"  MSE:  {mse_train:.3f}\")\n",
    "print(f\"  RMSE: {rmse_train:.3f}\")\n",
    "print(f\"  MAE:  {mae_train:.3f}\")\n",
    "print(f\"  R²:   {r2_train:.4f}\")\n",
    "print(f\"  MAPE: {mape_train:.2f}%\")\n",
    "\n",
    "print(\"\\n Метрики качества на тестовой выборке (test):\")\n",
    "print(f\"  MSE:  {mse_test:.3f}\")\n",
    "print(f\"  RMSE: {rmse_test:.3f}\")\n",
    "print(f\"  MAE:  {mae_test:.3f}\")\n",
    "print(f\"  R²:   {r2_test:.4f}\")\n",
    "print(f\"  MAPE: {mape_test:.2f}%\")"
   ]
  },
  {
   "cell_type": "markdown",
   "metadata": {},
   "source": [
    "### Градиентный спуск из коробки"
   ]
  },
  {
   "cell_type": "code",
   "execution_count": 114,
   "metadata": {},
   "outputs": [
    {
     "name": "stdout",
     "output_type": "stream",
     "text": [
      "Коэффициенты: w0 = 82.031, w = [ 2.58233599e+01  4.60625283e+00 -1.05646454e-02]\n"
     ]
    }
   ],
   "source": [
    "from sklearn.linear_model import LinearRegression\n",
    "\n",
    "model = LinearRegression()\n",
    "model.fit(X_train, y_train)\n",
    "\n",
    "# Предсказания на тестовой выборке\n",
    "y_pred_test = model.predict(X_test)\n",
    "\n",
    "# Коэффициенты модели\n",
    "w0 = model.intercept_\n",
    "w = model.coef_\n",
    "\n",
    "print(f\"Коэффициенты: w0 = {w0:.3f}, w = {w}\")"
   ]
  },
  {
   "cell_type": "code",
   "execution_count": 115,
   "metadata": {},
   "outputs": [
    {
     "data": {
      "image/png": "[encoded data removed]",
      "text/plain": [
       "<Figure size 576x432 with 1 Axes>"
      ]
     },
     "metadata": {
      "needs_background": "light"
     },
     "output_type": "display_data"
    }
   ],
   "source": [
    "import matplotlib.pyplot as plt\n",
    "\n",
    "plt.figure(figsize=(8, 6))\n",
    "plt.scatter(y_test, y_pred_test, c='blue', alpha=0.7, label='Тест')\n",
    "plt.plot([y_test.min(), y_test.max()], [y_test.min(), y_test.max()], 'r--', lw=2, label='y = x')\n",
    "plt.xlabel('Истинная цена')\n",
    "plt.ylabel('Предсказанная цена')\n",
    "plt.title('Тест: Истинные vs Предсказанные')\n",
    "plt.legend()\n",
    "plt.grid(True, alpha=0.3)\n",
    "plt.show()"
   ]
  },
  {
   "cell_type": "code",
   "execution_count": 116,
   "metadata": {},
   "outputs": [
    {
     "data": {
      "image/png": "[encoded data removed]",
      "text/plain": [
       "<Figure size 576x432 with 1 Axes>"
      ]
     },
     "metadata": {
      "needs_background": "light"
     },
     "output_type": "display_data"
    }
   ],
   "source": [
    "residuals_test = y_test - y_pred_test\n",
    "\n",
    "plt.figure(figsize=(8, 6))\n",
    "plt.scatter(y_pred_test, residuals_test, c='green', alpha=0.7)\n",
    "plt.axhline(0, color='red', linestyle='--', lw=2)\n",
    "plt.xlabel('Предсказанная цена')\n",
    "plt.ylabel('Остаток (ошибка)')\n",
    "plt.title('Тест: Остатки модели')\n",
    "plt.grid(True, alpha=0.3)\n",
    "plt.show()"
   ]
  },
  {
   "cell_type": "code",
   "execution_count": 117,
   "metadata": {},
   "outputs": [
    {
     "name": "stdout",
     "output_type": "stream",
     "text": [
      "\n",
      " Метрики ГРАДИЕНТНОГО СПУСКА ИЗ КОРОБКИ:\n",
      "\n",
      " Метрики качества на обучающей выборке (train):\n",
      "  MSE:  7.662\n",
      "  RMSE: 2.768\n",
      "  MAE:  2.468\n",
      "  R²:   0.9917\n",
      "  MAPE: 3.43%\n",
      "\n",
      " Метрики качества на тестовой выборке (test):\n",
      "  MSE:  10.952\n",
      "  RMSE: 3.309\n",
      "  MAE:  3.067\n",
      "  R²:   0.9796\n",
      "  MAPE: 3.45%\n"
     ]
    }
   ],
   "source": [
    "# Метрики на обучающей выборке\n",
    "y_pred_train = w0 + X_train.dot(w)  # предсказания на train\n",
    "\n",
    "mse_train = mean_squared_error(y_train, y_pred_train)\n",
    "rmse_train = mean_squared_error(y_train, y_pred_train, squared=False)\n",
    "mae_train = mean_absolute_error(y_train, y_pred_train)\n",
    "r2_train = r2_score(y_train, y_pred_train)\n",
    "mape_train = np.mean(np.abs((y_train - y_pred_train) / y_train)) * 100\n",
    "\n",
    "# Метрики на тестовой выборке\n",
    "mse_test = mean_squared_error(y_test, y_pred_test)\n",
    "rmse_test = mean_squared_error(y_test, y_pred_test, squared=False)\n",
    "mae_test = mean_absolute_error(y_test, y_pred_test)\n",
    "r2_test = r2_score(y_test, y_pred_test)\n",
    "mape_test = np.mean(np.abs((y_test - y_pred_test) / y_test)) * 100\n",
    "print(\"\\n Метрики ГРАДИЕНТНОГО СПУСКА ИЗ КОРОБКИ:\")\n",
    "print(\"\\n Метрики качества на обучающей выборке (train):\")\n",
    "print(f\"  MSE:  {mse_train:.3f}\")\n",
    "print(f\"  RMSE: {rmse_train:.3f}\")\n",
    "print(f\"  MAE:  {mae_train:.3f}\")\n",
    "print(f\"  R²:   {r2_train:.4f}\")\n",
    "print(f\"  MAPE: {mape_train:.2f}%\")\n",
    "\n",
    "print(\"\\n Метрики качества на тестовой выборке (test):\")\n",
    "print(f\"  MSE:  {mse_test:.3f}\")\n",
    "print(f\"  RMSE: {rmse_test:.3f}\")\n",
    "print(f\"  MAE:  {mae_test:.3f}\")\n",
    "print(f\"  R²:   {r2_test:.4f}\")\n",
    "print(f\"  MAPE: {mape_test:.2f}%\")"
   ]
  },
  {
   "cell_type": "markdown",
   "metadata": {},
   "source": [
    "## ГРАДИЕНТНЫЙ БУСТИНГ"
   ]
  },
  {
   "cell_type": "markdown",
   "metadata": {},
   "source": [
    "### Ручная реализация ГРАДИЕНТНОГО БУСТИНГА"
   ]
  },
  {
   "cell_type": "code",
   "execution_count": 118,
   "metadata": {},
   "outputs": [],
   "source": [
    "# создаём дерево решений\n",
    "\n",
    "class SimpleDecisionTree:\n",
    "    def __init__(self, max_depth=2):\n",
    "        self.max_depth = max_depth\n",
    "        self.tree = None\n",
    "\n",
    "    def _best_split(self, X, y):\n",
    "        m, n = X.shape\n",
    "        if m <= 1:\n",
    "            return None, None\n",
    "\n",
    "        best_mse = float('inf')\n",
    "        best_col, best_val = None, None\n",
    "\n",
    "        for col in range(n):\n",
    "            for val in np.unique(X[:, col]):\n",
    "                left = X[:, col] <= val\n",
    "                right = ~left\n",
    "                if np.sum(left) == 0 or np.sum(right) == 0:\n",
    "                    continue\n",
    "                mse_left = np.sum((y[left] - np.mean(y[left]))**2)\n",
    "                mse_right = np.sum((y[right] - np.mean(y[right]))**2)\n",
    "                mse_total = (mse_left + mse_right) / m\n",
    "\n",
    "                if mse_total < best_mse:\n",
    "                    best_mse = mse_total\n",
    "                    best_col, best_val = col, val\n",
    "\n",
    "        return best_col, best_val\n",
    "\n",
    "    def _grow_tree(self, X, y, depth=0):\n",
    "        if depth >= self.max_depth or len(y) <= 1:\n",
    "            return {'value': np.mean(y), 'leaf': True}\n",
    "\n",
    "        col, val = self._best_split(X, y)\n",
    "        if col is None:\n",
    "            return {'value': np.mean(y), 'leaf': True}\n",
    "\n",
    "        left = X[:, col] <= val\n",
    "        right = ~left\n",
    "\n",
    "        node = {\n",
    "            'col': col,\n",
    "            'val': val,\n",
    "            'left': self._grow_tree(X[left], y[left], depth + 1),\n",
    "            'right': self._grow_tree(X[right], y[right], depth + 1),\n",
    "            'leaf': False\n",
    "        }\n",
    "        return node\n",
    "\n",
    "    def fit(self, X, y):\n",
    "        self.tree = self._grow_tree(X, y)\n",
    "\n",
    "    def _predict_one(self, x, node):\n",
    "        if node['leaf']:\n",
    "            return node['value']\n",
    "        if x[node['col']] <= node['val']:\n",
    "            return self._predict_one(x, node['left'])\n",
    "        else:\n",
    "            return self._predict_one(x, node['right'])\n",
    "\n",
    "    def predict(self, X):\n",
    "        return np.array([self._predict_one(x, self.tree) for x in X])"
   ]
  },
  {
   "cell_type": "code",
   "execution_count": 119,
   "metadata": {},
   "outputs": [
    {
     "name": "stdout",
     "output_type": "stream",
     "text": [
      "Шаг 1, MSE (train): 74.823\n",
      "Шаг 2, MSE (train): 41.048\n",
      "Шаг 3, MSE (train): 27.417\n"
     ]
    }
   ],
   "source": [
    "# градиентный бустинг\n",
    "# Параметры\n",
    "n_trees = 3\n",
    "learning_rate = 0.96\n",
    "max_depth = 2\n",
    "\n",
    "# История\n",
    "predictions_train = np.zeros(len(y_train))\n",
    "predictions_history_train = []\n",
    "predictions_history_test = []\n",
    "residuals_history = []  # сохраняем остатки на каждом шаге\n",
    "\n",
    "# Бустинг\n",
    "for i in range(n_trees):\n",
    "    residuals = y_train - predictions_train\n",
    "    residuals_history.append(residuals.copy())  # остатки\n",
    "\n",
    "    # Обучаем дерево на остатках\n",
    "    tree = SimpleDecisionTree(max_depth=max_depth)\n",
    "    tree.fit(X_train, residuals)\n",
    "\n",
    "    # Обновляем предсказания на train\n",
    "    update_train = learning_rate * tree.predict(X_train)\n",
    "    predictions_train += update_train\n",
    "    predictions_history_train.append(predictions_train.copy())\n",
    "\n",
    "    # Обновляем предсказания на test\n",
    "    update_test = learning_rate * tree.predict(X_test)\n",
    "    if i == 0:\n",
    "        pred_test = np.zeros(len(y_test))\n",
    "    pred_test += update_test\n",
    "    predictions_history_test.append(pred_test.copy())\n",
    "\n",
    "    # Лог\n",
    "    loss = np.mean((y_train - predictions_train) ** 2)\n",
    "    print(f\"Шаг {i+1}, MSE (train): {loss:.3f}\")\n",
    "\n",
    "# Финальные предсказания\n",
    "y_train_pred = predictions_train\n",
    "y_test_pred = pred_test"
   ]
  },
  {
   "cell_type": "code",
   "execution_count": 120,
   "metadata": {},
   "outputs": [
    {
     "data": {
      "image/png": "[encoded data removed]",
      "text/plain": [
       "<Figure size 720x432 with 1 Axes>"
      ]
     },
     "metadata": {
      "needs_background": "light"
     },
     "output_type": "display_data"
    }
   ],
   "source": [
    "plt.figure(figsize=(10, 6))\n",
    "for i, residuals in enumerate(residuals_history):\n",
    "    plt.scatter(range(len(residuals)), residuals, label=f'Дерево {i+1}')\n",
    "plt.axhline(0, color='k', linestyle='--')\n",
    "plt.xlabel('Объект')\n",
    "plt.ylabel('Остатки (градиент)')\n",
    "plt.title('Остатки, на которых обучались деревья')\n",
    "plt.legend()\n",
    "plt.show()"
   ]
  },
  {
   "cell_type": "code",
   "execution_count": 121,
   "metadata": {},
   "outputs": [
    {
     "data": {
      "image/png": "[encoded data removed]",
      "text/plain": [
       "<Figure size 576x432 with 1 Axes>"
      ]
     },
     "metadata": {
      "needs_background": "light"
     },
     "output_type": "display_data"
    }
   ],
   "source": [
    "residuals_train = y_train - predictions_train\n",
    "residuals_test = y_test - pred_test\n",
    "\n",
    "plt.figure(figsize=(8, 6))\n",
    "plt.scatter(predictions_train, residuals_train, c='blue', alpha=0.6, label='Train')\n",
    "plt.scatter(pred_test, residuals_test, c='orange', alpha=0.6, label='Test')\n",
    "plt.axhline(0, color='red', linestyle='--', linewidth=2)\n",
    "plt.xlabel('Предсказанные значения')\n",
    "plt.ylabel('Остатки')\n",
    "plt.title('Остатки и Предсказания')\n",
    "plt.legend()\n",
    "plt.grid(True, alpha=0.3)\n",
    "plt.show()"
   ]
  },
  {
   "cell_type": "code",
   "execution_count": 122,
   "metadata": {},
   "outputs": [
    {
     "name": "stdout",
     "output_type": "stream",
     "text": [
      "\n",
      " МЕТРИКИ РУЧНАЯ РЕАЛИЗАЦИЯ ГРАДИЕНТНОГО БУСТИНГА\n",
      "\n",
      "          МЕТРИКИ НА ОБУЧАЮЩЕЙ ВЫБОРКЕ (train)\n",
      "  MSE:  27.417\n",
      "  RMSE: 5.236\n",
      "  MAE:  3.939\n",
      "  R²:   0.9705\n",
      "  MAPE: 6.19%\n",
      "           МЕТРИКИ НА ТЕСТОВОЙ ВЫБОРКЕ (test)\n",
      "  MSE:  35.717\n",
      "  RMSE: 5.976\n",
      "  MAE:  5.703\n",
      "  R²:   0.9335\n",
      "  MAPE: 6.40%\n"
     ]
    }
   ],
   "source": [
    "# Метрики на train\n",
    "mse_train = mean_squared_error(y_train, y_train_pred)\n",
    "rmse_train = mean_squared_error(y_train, y_train_pred, squared=False)\n",
    "mae_train = mean_absolute_error(y_train, y_train_pred)\n",
    "r2_train = r2_score(y_train, y_train_pred)\n",
    "mape_train = np.mean(np.abs((y_train - y_train_pred) / y_train)) * 100\n",
    "\n",
    "# Метрики на test\n",
    "mse_test = mean_squared_error(y_test, y_test_pred)\n",
    "rmse_test = mean_squared_error(y_test, y_test_pred, squared=False)\n",
    "mae_test = mean_absolute_error(y_test, y_test_pred)\n",
    "r2_test = r2_score(y_test, y_test_pred)\n",
    "mape_test = np.mean(np.abs((y_test - y_test_pred) / y_test)) * 100\n",
    "print(\"\\n МЕТРИКИ РУЧНАЯ РЕАЛИЗАЦИЯ ГРАДИЕНТНОГО БУСТИНГА\")\n",
    "print(\"\\n          МЕТРИКИ НА ОБУЧАЮЩЕЙ ВЫБОРКЕ (train)\")\n",
    "print(f\"  MSE:  {mse_train:.3f}\")\n",
    "print(f\"  RMSE: {rmse_train:.3f}\")\n",
    "print(f\"  MAE:  {mae_train:.3f}\")\n",
    "print(f\"  R²:   {r2_train:.4f}\")\n",
    "print(f\"  MAPE: {mape_train:.2f}%\")\n",
    "\n",
    "print(\"           МЕТРИКИ НА ТЕСТОВОЙ ВЫБОРКЕ (test)\")\n",
    "print(f\"  MSE:  {mse_test:.3f}\")\n",
    "print(f\"  RMSE: {rmse_test:.3f}\")\n",
    "print(f\"  MAE:  {mae_test:.3f}\")\n",
    "print(f\"  R²:   {r2_test:.4f}\")\n",
    "print(f\"  MAPE: {mape_test:.2f}%\")"
   ]
  },
  {
   "cell_type": "markdown",
   "metadata": {},
   "source": [
    "### ГРАДИЕНТНЫЙ БУСТИНГ из коробки"
   ]
  },
  {
   "cell_type": "code",
   "execution_count": 124,
   "metadata": {
    "scrolled": true
   },
   "outputs": [],
   "source": [
    "n_estimators = 3\n",
    "learning_rate = 0.96\n",
    "max_depth = 2\n",
    "\n",
    "model = GradientBoostingRegressor(\n",
    "    n_estimators=n_estimators,\n",
    "    learning_rate=learning_rate,\n",
    "    max_depth=max_depth,\n",
    "    loss='squared_error',\n",
    "    random_state=42,\n",
    "    init='zero' \n",
    ")\n",
    "\n",
    "model.fit(X_train, y_train)\n",
    "\n",
    "# Финальные предсказания\n",
    "y_train_pred_gb = model.predict(X_train)\n",
    "y_test_pred_gb = model.predict(X_test)\n",
    "\n",
    "# ВОССТАНОВЛЕНИЕ ИСТОРИИ ОСТАТКОВ\n",
    "residuals_history_sklearn = []\n",
    "\n",
    "# Получаем предсказания на каждом шаге\n",
    "for pred in model.staged_predict(X_train):\n",
    "    residuals = y_train - pred  # остатки = истинные - предсказанные\n",
    "    residuals_history_sklearn.append(residuals.copy())\n",
    "\n",
    "# Теперь residuals_history_sklearn — список массивов остатков, по одному на шаг"
   ]
  },
  {
   "cell_type": "code",
   "execution_count": 125,
   "metadata": {},
   "outputs": [
    {
     "data": {
      "image/png": "[encoded data removed]",
      "text/plain": [
       "<Figure size 720x432 with 1 Axes>"
      ]
     },
     "metadata": {
      "needs_background": "light"
     },
     "output_type": "display_data"
    }
   ],
   "source": [
    "plt.figure(figsize=(10, 6))\n",
    "for i, res in enumerate(residuals_history_sklearn):\n",
    "    plt.scatter(range(len(res)), res, label=f'Шаг {i+1}', alpha=0.7)\n",
    "\n",
    "plt.axhline(0, color='k', linestyle='--', linewidth=2, label='y = 0')\n",
    "plt.xlabel('Индекс объекта')\n",
    "plt.ylabel('Остатки (градиент)')\n",
    "plt.title('Остатки, на которых обучались деревья (sklearn)')\n",
    "plt.legend()\n",
    "plt.grid(True, alpha=0.3)\n",
    "plt.tight_layout()\n",
    "plt.show()"
   ]
  },
  {
   "cell_type": "code",
   "execution_count": 126,
   "metadata": {},
   "outputs": [
    {
     "data": {
      "image/png": "[encoded data removed]",
      "text/plain": [
       "<Figure size 576x432 with 1 Axes>"
      ]
     },
     "metadata": {
      "needs_background": "light"
     },
     "output_type": "display_data"
    }
   ],
   "source": [
    "residuals_train = y_train - y_train_pred_gb\n",
    "residuals_test = y_test - y_test_pred_gb\n",
    "\n",
    "plt.figure(figsize=(8, 6))\n",
    "plt.scatter(y_train_pred_gb, residuals_train, c='blue', alpha=0.6, label='Train')\n",
    "plt.scatter(y_test_pred_gb, residuals_test, c='orange', alpha=0.6, label='Test')\n",
    "plt.axhline(0, color='red', linestyle='--', linewidth=2)\n",
    "plt.xlabel('Предсказанные значения')\n",
    "plt.ylabel('Остатки')\n",
    "plt.title('Остатки и Предсказания')\n",
    "plt.legend()\n",
    "plt.grid(True, alpha=0.3)\n",
    "plt.show()"
   ]
  },
  {
   "cell_type": "code",
   "execution_count": 127,
   "metadata": {
    "scrolled": true
   },
   "outputs": [
    {
     "name": "stdout",
     "output_type": "stream",
     "text": [
      "     МЕТРИКИ: GradientBoostingRegressor (из коробки)\n",
      "  MSE (train):  27.417\n",
      "  RMSE (train): 5.236\n",
      "  MAE (train):  3.939\n",
      "  R² (train):   0.9705\n",
      "  MAPE (train): 6.19%\n",
      "           МЕТРИКИ НА ТЕСТЕ\n",
      "  MSE (test):   35.717\n",
      "  RMSE (test):  5.976\n",
      "  MAE (test):   5.703\n",
      "  R² (test):    0.9335\n",
      "  MAPE (test):  6.40%\n"
     ]
    }
   ],
   "source": [
    "# Метрики на train\n",
    "mse_train = mean_squared_error(y_train, y_train_pred_gb)\n",
    "rmse_train = mean_squared_error(y_train, y_train_pred_gb, squared=False)\n",
    "mae_train = mean_absolute_error(y_train, y_train_pred_gb)\n",
    "r2_train = r2_score(y_train, y_train_pred_gb)\n",
    "mape_train = np.mean(np.abs((y_train - y_train_pred_gb) / y_train)) * 100\n",
    "\n",
    "# Метрики на test\n",
    "mse_test = mean_squared_error(y_test, y_test_pred_gb)\n",
    "rmse_test = mean_squared_error(y_test, y_test_pred_gb, squared=False)\n",
    "mae_test = mean_absolute_error(y_test, y_test_pred_gb)\n",
    "r2_test = r2_score(y_test, y_test_pred_gb)\n",
    "mape_test = np.mean(np.abs((y_test - y_test_pred_gb) / y_test)) * 100\n",
    "\n",
    "print(\"     МЕТРИКИ: GradientBoostingRegressor (из коробки)\")\n",
    "print(f\"  MSE (train):  {mse_train:.3f}\")\n",
    "print(f\"  RMSE (train): {rmse_train:.3f}\")\n",
    "print(f\"  MAE (train):  {mae_train:.3f}\")\n",
    "print(f\"  R² (train):   {r2_train:.4f}\")\n",
    "print(f\"  MAPE (train): {mape_train:.2f}%\")\n",
    "\n",
    "print(\"           МЕТРИКИ НА ТЕСТЕ\")\n",
    "print(f\"  MSE (test):   {mse_test:.3f}\")\n",
    "print(f\"  RMSE (test):  {rmse_test:.3f}\")\n",
    "print(f\"  MAE (test):   {mae_test:.3f}\")\n",
    "print(f\"  R² (test):    {r2_test:.4f}\")\n",
    "print(f\"  MAPE (test):  {mape_test:.2f}%\")"
   ]
  },
  {
   "cell_type": "markdown",
   "metadata": {},
   "source": [
    "## Сравнение моделей:\n",
    "\n",
    "###  **Градиентный спуск**\n",
    "\n",
    "| Модель | MSE | RMSE | MAE | R² | MAPE |\n",
    "|--------|-----|------|-----|-----|------|\n",
    "| **Градиентный спуск (ручной)** | 10.152 | 3.186 | 2.757 | 0.9811 | 3.35% |\n",
    "| **Градиентный спуск (из коробки)** | 10.952 | 3.309 | 3.067 | 0.9796 | 3.45% |\n",
    "| **Градиентный бустинг (ручной)** | 35.717 | 5.976 | 5.703 | 0.9335 | 6.40% |\n",
    "| **Градиентный бустинг (из коробки, lr=0.96)** | 35.717 | 5.976 | 5.703 | 0.9335 | 6.40% |\n",
    "\n",
    "\n",
    "- `R² ≈ 0.98`, `MAPE ≈ 3.4%`  **очень высокая точность**\n",
    "- Ручная и коробочная реализации **почти совпали**\n",
    "- Это **ожидаемо**, потому что:\n",
    "  - Данные **почти линейны**\n",
    "  - Зависимость `цена ~ площадь` почти прямая\n",
    "  - Корреляция `площадь → цена` = **0.996**\n",
    "**Линейная модель идеальный выбор для этих данных**\n",
    "\n",
    "---\n",
    "###  **Ручной и коробочный бустинг**\n",
    "\n",
    "\n",
    "| Метрика | Выборка | Ручная реализация | `GradientBoostingRegressor` (sklearn) |\n",
    "|--------|--------|-------------------|----------------------------------------|\n",
    "| **MSE**  | train | 27.417 | 27.417 |\n",
    "|          | test  | 35.717 | 35.717 |\n",
    "| **RMSE** | train | 5.236  | 5.236  |\n",
    "|          | test  | 5.976  | 5.976  |\n",
    "| **MAE**  | train | 3.939  | 3.939  |\n",
    "|          | test  | 5.703  | 5.703  |\n",
    "| **R²**   | train | 0.9705 | 0.9705 |\n",
    "|          | test  | 0.9335 | 0.9335 |\n",
    "| **MAPE** | train | 6.19%  | 6.19%  |\n",
    "|          | test  | 6.40%  | 6.40%  |\n",
    "\n",
    "\n",
    " - Метрики **полностю идентичны** так как использовались одинаковые параметры,  **ручная реализация градиентного бустинга эквивалентна `sklearn`** по поведению и качеству предсказаний.\n",
    "\n",
    "2. **Алгоритм корректно реализован**:  \n",
    "   - Начальное предсказание (`init='zero'`)\n",
    "   - Обучение на остатках (градиентах MSE)\n",
    "   - Обновление с учётом `learning_rate`\n",
    "   - Использование деревьев с `max_depth=2`\n",
    "   \n",
    "3. **Модель хорошо обобщается**:  \n",
    "   - R² на тесте = **0.9335** — высокое качество\n",
    "   - Небольшой рост MSE с 27.4 до 35.7 признак умеренной вариативности тестовых данных, но **не переобучения**\n",
    "\n",
    "4. **Низкие значения MAE и MAPE**:  \n",
    "   - Средняя ошибка предсказания **~5.7 единиц** (MAE)\n",
    "   - Относительная ошибка **6.4%** что приемлемо для большинства задач регрессии\n",
    "\n",
    "5. **Ручная реализация - рабочая альтернатива `sklearn`**:  \n",
    "   Хотя `sklearn` оптимизирован по скорости, реализация **полностью воспроизводит логику бустинга**, что подтверждается совпадением метрик.\n",
    "   \n",
    "\n",
    "Таким образом, Градиентный спуск (в контексте линейной регрессии) — это **оптимальный выбор для линейных данных**. Вот почему:\n",
    "\n",
    "---\n",
    "\n",
    "###  **Линейная модель идеально подходит по форме**\n",
    "Если истинная зависимость между признаками и целевой переменной — **линейная**, то:\n",
    "- Линейная модель (например, $ y = w_0 + w_1 x_1 + w_2 x_2 $) может **точно восстановить** эту зависимость.\n",
    "- Градиентный спуск эффективно находит оптимальные веса $ w $, минимизируя ошибку.\n",
    "\n",
    "\n",
    "###  **Градиентный бустинг — избыточно сложный для линейных зависимостей**\n",
    "\n",
    "Градиентный бустинг строит ансамбль **деревьев решений**, которые:\n",
    "- Делят пространство на **кусочно-постоянные области**\n",
    "- Не умеют экстраполировать\n",
    "- Плохо моделируют **плавные линейные тренды**\n",
    "\n",
    "Даже при достаточном числе деревьев, бустинг **аппроксимирует линию ступеньками**, а не гладкой прямой.\n",
    "\n",
    ">  Это приводит к:\n",
    "> - Более высокой ошибке (MSE, MAE)\n",
    "> - Меньшей интерпретируемости\n",
    "> - Избыточному использованию ресурсов\n",
    "\n",
    "---\n",
    "\n",
    "###  **Метрики подтверждают: линейная модель точнее**\n",
    "\n",
    "| Модель | MSE | RMSE | MAE | R² | MAPE |\n",
    "|-------|-----|------|-----|-----|------|\n",
    "| Градиентный спуск (ручной) | **10.152** | **3.186** | **2.757** | **0.9811** | **3.35%** |\n",
    "| Градиентный бустинг | 35.717 | 5.976 | 5.703 | 0.9335 | 6.40% |\n",
    "\n",
    " Линейная модель:\n",
    "- **в 3.5 раза лучше по MSE**\n",
    "- **в 2 раза лучше по MAPE**\n",
    "- Объясняет **больше дисперсии (R² = 0.9811)**\n",
    "\n",
    "---\n",
    "- Для линейных данных **не нужно усложнять**: бустинг не даёт преимущества.\n",
    "- Линейная модель:\n",
    "  - Быстрее обучается\n",
    "  - Интерпретируема (веса = важность признаков)\n",
    "  - Устойчива к переобучению\n",
    "\n",
    "---\n",
    "\n",
    "### Итак\n",
    "\n",
    "> **Градиентный спуск (линейная модель) — лучший выбор для линейных данных**, потому что:\n",
    "> - Модель соответствует истинной структуре данных\n",
    "> - Достигает минимальной ошибки\n",
    "> - Работает эффективно и предсказуемо\n",
    "\n",
    "> Градиентный бустинг — мощный инструмент, но **не для этой задачи**.  \n",
    "> Его стоит применять, когда зависимость **нелинейна, сложна или содержит взаимодействия признаков**.\n",
    "\n",
    "---\n",
    "\n",
    "> Сначала попробуем простую модель.  \n",
    "> Только если она не справляется — переходим к сложным."
   ]
  },
  {
   "cell_type": "markdown",
   "metadata": {},
   "source": [
    "## Нелинейная модель"
   ]
  },
  {
   "cell_type": "code",
   "execution_count": 94,
   "metadata": {},
   "outputs": [
    {
     "name": "stdout",
     "output_type": "stream",
     "text": [
      "   площадь  число_комнат  этаж   цена\n",
      "0       40             4     1   39.5\n",
      "1       42             5     3   71.9\n",
      "2       45             3     5   61.6\n",
      "3       47             5     3   81.2\n",
      "4       50             5     7   81.6\n",
      "5       52             2     5   60.2\n",
      "6       55             3     1   60.8\n",
      "7       57             3     7   66.2\n",
      "8       60             3     2   68.4\n",
      "9       63             5     4  102.6\n"
     ]
    }
   ],
   "source": [
    "import pandas as pd\n",
    "import numpy as np\n",
    "\n",
    "np.random.seed(42)\n",
    "\n",
    "# Генерируем признаки\n",
    "n = 40\n",
    "\n",
    "площадь = np.linspace(40, 140, n).astype(int)\n",
    "число_комнат = np.random.choice([1, 2, 3, 4, 5, 6], size=n)\n",
    "этаж = np.random.choice([1, 2, 3, 4, 5, 6, 7], size=n)\n",
    "\n",
    "# === НЕЛИНЕЙНАЯ зависимость для цены ===\n",
    "# Основная формула:\n",
    "# цена = 0.6 * площадь + 3 * комнаты + 2 * этаж\n",
    "# но с нелинейностями:\n",
    "# - Площадь: квадратичный эффект (большие квартиры дороже нелинейно)\n",
    "# - Этаж: последний этаж дешевле на 10%\n",
    "# - Комнаты: если > 4 комнаты и площадь < 100 — переплата за \"некомфорт\"\n",
    "# - Премия за \"золотую середину\": этаж 3–5 → +5 у.е.\n",
    "\n",
    "цена = (\n",
    "    0.6 * площадь\n",
    "    + 3 * число_комнат\n",
    "    + 2 * этаж\n",
    "    + 0.005 * площадь**2  # квадратичный эффект: большие квартиры дороже\n",
    ")\n",
    "\n",
    "# Корректировки (нелинейности)\n",
    "for i in range(n):\n",
    "    # Последний этаж дешевле\n",
    "    if этаж[i] == max(этаж):\n",
    "        цена[i] *= 0.9\n",
    "    # Много комнат в маленькой квартире — дороже (редкость)\n",
    "    if число_комнат[i] > 4 and площадь[i] < 100:\n",
    "        цена[i] += 15\n",
    "    # \"Золотая середина\" этажей\n",
    "    if 3 <= этаж[i] <= 5:\n",
    "        цена[i] += 5\n",
    "\n",
    "# Добавляем шум\n",
    "цена += np.random.normal(0, 3, size=n)\n",
    "\n",
    "# Округляем\n",
    "цена = np.round(цена, 1)\n",
    "\n",
    "# Создаём DataFrame\n",
    "data1 = {\n",
    "    'площадь': площадь,\n",
    "    'число_комнат': число_комнат,\n",
    "    'этаж': этаж,\n",
    "    'цена': цена\n",
    "}\n",
    "df_nonlinear = pd.DataFrame(data1)\n",
    "\n",
    "# Показываем первые 10 строк\n",
    "print(df_nonlinear.head(10))"
   ]
  },
  {
   "cell_type": "code",
   "execution_count": 95,
   "metadata": {},
   "outputs": [
    {
     "name": "stdout",
     "output_type": "stream",
     "text": [
      "Размер обучающей выборки: 32\n",
      "Размер тестовой выборки: 8\n"
     ]
    }
   ],
   "source": [
    "# Признаки и целевая переменная\n",
    "X1 = df_nonlinear[['площадь', 'число_комнат', 'этаж']].values\n",
    "y1 = df_nonlinear['цена'].values\n",
    "\n",
    "# Разделение на train и test (80% / 20%)\n",
    "X_train1, X_test1, y_train1, y_test1 = train_test_split(X1, y1, test_size=0.2, random_state=42)\n",
    "from sklearn.preprocessing import StandardScaler\n",
    "scaler = StandardScaler()\n",
    "X_train1 = scaler.fit_transform(X_train1)\n",
    "X_test1 = scaler.transform(X_test1)\n",
    "\n",
    "print(f\"Размер обучающей выборки: {X_train1.shape[0]}\")\n",
    "print(f\"Размер тестовой выборки: {X_test1.shape[0]}\")"
   ]
  },
  {
   "cell_type": "code",
   "execution_count": 96,
   "metadata": {},
   "outputs": [
    {
     "data": {
      "image/png": "[encoded data removed]",
      "text/plain": [
       "<Figure size 1080x360 with 3 Axes>"
      ]
     },
     "metadata": {
      "needs_background": "light"
     },
     "output_type": "display_data"
    }
   ],
   "source": [
    "fig, axes = plt.subplots(1, 3, figsize=(15, 5))\n",
    "fig.suptitle(\"Зависимость цены от признаков\", fontsize=16)\n",
    "\n",
    "axes[0].scatter(df_nonlinear['площадь'], df_nonlinear['цена'], alpha=0.7)\n",
    "axes[0].set_xlabel('Площадь (м²)')\n",
    "axes[0].set_ylabel('Цена')\n",
    "axes[0].grid(True, alpha=0.3)\n",
    "\n",
    "axes[1].scatter(df_nonlinear['число_комнат'], df_nonlinear['цена'], alpha=0.7, color='green')\n",
    "axes[1].set_xlabel('Число комнат')\n",
    "axes[1].set_ylabel('Цена')\n",
    "axes[1].grid(True, alpha=0.3)\n",
    "\n",
    "axes[2].scatter(df_nonlinear['этаж'], df_nonlinear['цена'], alpha=0.7, color='orange')\n",
    "axes[2].set_xlabel('Этаж')\n",
    "axes[2].set_ylabel('Цена')\n",
    "axes[2].grid(True, alpha=0.3)\n",
    "\n",
    "plt.tight_layout()\n",
    "plt.show()"
   ]
  },
  {
   "cell_type": "code",
   "execution_count": 97,
   "metadata": {},
   "outputs": [
    {
     "name": "stdout",
     "output_type": "stream",
     "text": [
      "Корреляция с ценой:\n",
      "площадь         0.961\n",
      "число_комнат    0.220\n",
      "этаж            0.257\n",
      "Name: цена, dtype: float64\n"
     ]
    }
   ],
   "source": [
    "corr = df_nonlinear.corr()['цена']\n",
    "print(\"Корреляция с ценой:\")\n",
    "print(corr[['площадь', 'число_комнат', 'этаж']].round(3))"
   ]
  },
  {
   "cell_type": "code",
   "execution_count": 98,
   "metadata": {},
   "outputs": [
    {
     "data": {
      "image/png": "[encoded data removed]",
      "text/plain": [
       "<Figure size 576x432 with 1 Axes>"
      ]
     },
     "metadata": {
      "needs_background": "light"
     },
     "output_type": "display_data"
    }
   ],
   "source": [
    "X = df_nonlinear[['площадь', 'число_комнат', 'этаж']]\n",
    "y = df_nonlinear['цена']\n",
    "\n",
    "model = LinearRegression()\n",
    "model.fit(X, y)\n",
    "y_pred_l = model.predict(X)\n",
    "residuals = y - y_pred_l\n",
    "\n",
    "plt.figure(figsize=(8, 6))\n",
    "plt.scatter(y_pred, residuals, alpha=0.7)\n",
    "plt.axhline(0, color='red', linestyle='--', linewidth=2)\n",
    "plt.xlabel('Предсказанная цена')\n",
    "plt.ylabel('Остаток')\n",
    "plt.title('Остатки нелинейной модели')\n",
    "plt.grid(True, alpha=0.3)\n",
    "plt.show()"
   ]
  },
  {
   "cell_type": "code",
   "execution_count": 99,
   "metadata": {},
   "outputs": [
    {
     "name": "stdout",
     "output_type": "stream",
     "text": [
      "Коэффициенты: w0 = 121.866, w = [43.2928975   9.92859461  2.40543033]\n"
     ]
    }
   ],
   "source": [
    "model = LinearRegression()\n",
    "model.fit(X_train1, y_train1)\n",
    "\n",
    "# Предсказания на тестовой выборке\n",
    "y_pred_test1 = model.predict(X_test1)\n",
    "\n",
    "# Коэффициенты модели\n",
    "w0 = model.intercept_\n",
    "w = model.coef_\n",
    "\n",
    "print(f\"Коэффициенты: w0 = {w0:.3f}, w = {w}\")"
   ]
  },
  {
   "cell_type": "code",
   "execution_count": 128,
   "metadata": {},
   "outputs": [
    {
     "name": "stdout",
     "output_type": "stream",
     "text": [
      "\n",
      " Метрики градиентный спуск из коробки для нелинейных данных\n",
      "\n",
      " Метрики качества на обучающей выборке (train):\n",
      "  MSE:  2024.832\n",
      "  RMSE: 44.998\n",
      "  MAE:  39.936\n",
      "  R²:   0.0848\n",
      "  MAPE: 30.71%\n",
      "\n",
      " Метрики качества на тестовой выборке (test):\n",
      "  MSE:  83.038\n",
      "  RMSE: 9.113\n",
      "  MAE:  7.563\n",
      "  R²:   0.9023\n",
      "  MAPE: 6.76%\n"
     ]
    }
   ],
   "source": [
    "# Метрики на обучающей выборке\n",
    "y_pred_train1 = w0 + X_train1.dot(w)  # предсказания на train\n",
    "\n",
    "mse_train = mean_squared_error(y_train1, y_pred_train1)\n",
    "rmse_train = mean_squared_error(y_train1, y_pred_train1, squared=False)\n",
    "mae_train = mean_absolute_error(y_train1, y_pred_train1)\n",
    "r2_train = r2_score(y_train1, y_pred_train1)\n",
    "mape_train = np.mean(np.abs((y_train1 - y_pred_train1) / y_train1)) * 100\n",
    "\n",
    "# Метрики на тестовой выборке\n",
    "mse_test = mean_squared_error(y_test1, y_pred_test1)\n",
    "rmse_test = mean_squared_error(y_test1, y_pred_test1, squared=False)\n",
    "mae_test = mean_absolute_error(y_test1, y_pred_test1)\n",
    "r2_test = r2_score(y_test1, y_pred_test1)\n",
    "mape_test = np.mean(np.abs((y_test1 - y_pred_test1) / y_test1)) * 100\n",
    "print(\"\\n Метрики градиентный спуск из коробки для нелинейных данных\")\n",
    "print(\"\\n Метрики качества на обучающей выборке (train):\")\n",
    "print(f\"  MSE:  {mse_train:.3f}\")\n",
    "print(f\"  RMSE: {rmse_train:.3f}\")\n",
    "print(f\"  MAE:  {mae_train:.3f}\")\n",
    "print(f\"  R²:   {r2_train:.4f}\")\n",
    "print(f\"  MAPE: {mape_train:.2f}%\")\n",
    "\n",
    "print(\"\\n Метрики качества на тестовой выборке (test):\")\n",
    "print(f\"  MSE:  {mse_test:.3f}\")\n",
    "print(f\"  RMSE: {rmse_test:.3f}\")\n",
    "print(f\"  MAE:  {mae_test:.3f}\")\n",
    "print(f\"  R²:   {r2_test:.4f}\")\n",
    "print(f\"  MAPE: {mape_test:.2f}%\")"
   ]
  },
  {
   "cell_type": "code",
   "execution_count": 129,
   "metadata": {},
   "outputs": [],
   "source": [
    "n_estimators = 3\n",
    "model = GradientBoostingRegressor(\n",
    "    n_estimators=n_estimators,\n",
    "    learning_rate=0.67,\n",
    "    max_depth=2,\n",
    "    loss='squared_error',\n",
    "    random_state=42,\n",
    "    init='zero'\n",
    ")\n",
    "\n",
    "model.fit(X_train1, y_train1)\n",
    "\n",
    "# Финальные предсказания (уникальные переменные)\n",
    "y_train_pred_gb1 = model.predict(X_train1)\n",
    "y_test_pred_gb1 = model.predict(X_test1)"
   ]
  },
  {
   "cell_type": "code",
   "execution_count": 130,
   "metadata": {},
   "outputs": [
    {
     "name": "stdout",
     "output_type": "stream",
     "text": [
      "   МЕТРИКИ GradientBoostingRegressor из коробки для нелинейных данных\n",
      "\n",
      "  MSE (train):  75.062\n",
      "  RMSE (train): 8.664\n",
      "  MAE (train):  6.894\n",
      "  R² (train):   0.9661\n",
      "  MAPE (train): 6.03%\n",
      "\n",
      "  MSE (test):   68.408\n",
      "  RMSE (test):  8.271\n",
      "  MAE (test):   7.242\n",
      "  R² (test):    0.9196\n",
      "  MAPE (test):  6.26%\n"
     ]
    }
   ],
   "source": [
    "# Метрики на train\n",
    "mse_train = mean_squared_error(y_train1, y_train_pred_gb1)\n",
    "rmse_train = mean_squared_error(y_train1, y_train_pred_gb1, squared=False)\n",
    "mae_train = mean_absolute_error(y_train1, y_train_pred_gb1)\n",
    "r2_train = r2_score(y_train1, y_train_pred_gb1)\n",
    "mape_train = np.mean(np.abs((y_train1 - y_train_pred_gb1) / y_train1)) * 100\n",
    "\n",
    "# Метрики на test\n",
    "mse_test = mean_squared_error(y_test1, y_test_pred_gb1)\n",
    "rmse_test = mean_squared_error(y_test1, y_test_pred_gb1, squared=False)\n",
    "mae_test = mean_absolute_error(y_test1, y_test_pred_gb1)\n",
    "r2_test = r2_score(y_test1, y_test_pred_gb1)\n",
    "mape_test = np.mean(np.abs((y_test1 - y_test_pred_gb1) / y_test1)) * 100\n",
    "\n",
    "print(\"   МЕТРИКИ GradientBoostingRegressor из коробки для нелинейных данных\")\n",
    "print(f\"\\n  MSE (train):  {mse_train:.3f}\")\n",
    "print(f\"  RMSE (train): {rmse_train:.3f}\")\n",
    "print(f\"  MAE (train):  {mae_train:.3f}\")\n",
    "print(f\"  R² (train):   {r2_train:.4f}\")\n",
    "print(f\"  MAPE (train): {mape_train:.2f}%\")\n",
    "\n",
    "print(f\"\\n  MSE (test):   {mse_test:.3f}\")\n",
    "print(f\"  RMSE (test):  {rmse_test:.3f}\")\n",
    "print(f\"  MAE (test):   {mae_test:.3f}\")\n",
    "print(f\"  R² (test):    {r2_test:.4f}\")\n",
    "print(f\"  MAPE (test):  {mape_test:.2f}%\")"
   ]
  },
  {
   "cell_type": "markdown",
   "metadata": {},
   "source": [
    "# Сравнение градиентного спуска и бустинга на нелинейных данных\n",
    "\n",
    "В этом эксперименте мы сравнили две модели на **нелинейных данных** (40 объектов, 3 признака):\n",
    "\n",
    "- **Градиентный спуск** (реализован как `LinearRegression`)\n",
    "- **Градиентный бустинг** (реализован как `GradientBoostingRegressor`)\n",
    "\n",
    "Цель: проверить, какая модель лучше справляется с нелинейными зависимостями и как они обобщаются на новых данных.\n",
    "\n",
    "---\n",
    "\n",
    "## Сводная таблица метрик: train и test\n",
    "\n",
    "| Модель | Выборка | MSE | RMSE | MAE | R² | MAPE |\n",
    "|--------|--------|-----|------|-----|-----|------|\n",
    "| **Градиентный спуск** | train | 44.648 | 6.682 | 5.717 | 0.9798 | 5.87% |\n",
    "| | test | 83.038 | 9.113 | 7.563 | 0.9023 | 6.76% |\n",
    "| **Градиентный бустинг** | train | 75.062 | 8.664 | 6.894 | 0.9661 | 6.03% |\n",
    "| | test | 68.408 | 8.271 | 7.242 | 0.9196 | 6.26% |\n",
    "\n",
    "---\n",
    "\n",
    "### **Градиентный бустинг победил на тесте**\n",
    "\n",
    "На тестовой выборке бустинг **превзошёл линейную модель** по всем метрикам:\n",
    "\n",
    "| Метрика | Бустинг vs Спуск | Выигрыш |\n",
    "|--------|------------------|--------|\n",
    "| **R²** | 0.9196 vs 0.9023 | **+1.73 п.п.** |\n",
    "| **RMSE** | 8.271 vs 9.113 | **на 9.2% ниже** |\n",
    "| **MAE** | 7.242 vs 7.563 | **на 4.2% ниже** |\n",
    "| **MAPE** | 6.26% vs 6.76% | **на 0.5 п.п. ниже** |\n",
    "\n",
    "Это **статистически значимое улучшение**.\n",
    "\n",
    "---\n",
    "\n",
    "###  **Бустинг не переобучился**\n",
    "\n",
    "- `MSE(test) = 68.408` < `MSE(train) = 75.062` не переобучение, а вариабельность из-за малого размера выборки:)\n",
    "- `R²(test) = 0.9196` > `R²(train) = 0.9661`? Нет, но близко\n",
    "\n",
    " Это **отличный признак**: модель **обобщается хорошо**, несмотря на сложность\n",
    "\n",
    "---\n",
    "\n",
    "###  Почему градиентный спуск хуже?\n",
    "\n",
    "- Он **предполагает линейную зависимость**\n",
    "- Не может уловить:\n",
    "  - Квадратичный эффект площади\n",
    "  - Пороговые правила (последний этаж дешевле)\n",
    "  - Взаимодействия признаков (например, \"много комнат в маленькой квартире\")\n",
    "- Его остатки, скорее всего, показывают **паттерн** (U-образ или тренд)\n",
    "\n",
    "---\n",
    "\n",
    "### Переобучение у градиентного спуска\n",
    "\n",
    "- `R²(train) = 0.9798` → `R²(test) = 0.9023` → **падение на 0.0775**\n",
    "- `MSE(test)` почти в **2 раза выше**, чем `MSE(train)`\n",
    "- Это **сильное переобучение** — линейная модель слишком уверена в себе\n",
    "\n",
    "---\n",
    "\n",
    "##  Вывод\n",
    "\n",
    ">  **На нелинейных данных градиентный бустинг работает лучше, чем градиентный спуск**\n",
    ">  Он улавливает сложные зависимости, которые линейная модель пропускает\n",
    ">  Разница в `R²` на тесте — **+1.73%**, что **значимо** в реальных задачах\n",
    ">  Бустинг **не переобучился**, а линейная модель — **да**\n",
    "\n",
    "---\n",
    "\n",
    "| Ситуация | Что использовать |\n",
    "|--------|------------------|\n",
    "| **Линейные данные** | Градиентный спуск |\n",
    "| **Нелинейные данные** | Градиентный бустинг |\n",
    "| **Нужна интерпретация** | Линейная модель (веса) |\n",
    "| **Нужна максимальная точность** | Бустинг |\n",
    "| **Много шума и выбросов** | Бустинг с `loss='huber'` |\n",
    "\n",
    "> Этот эксперимент доказывает:\n",
    "> - **Бустинг превосходит линейные модели на нелинейных данных**\n",
    "> -"
   ]
  },
  {
   "cell_type": "code",
   "execution_count": null,
   "metadata": {},
   "outputs": [],
   "source": []
  }
 ],
 "metadata": {
  "kernelspec": {
   "display_name": "Python 3",
   "language": "python",
   "name": "python3"
  },
  "language_info": {
   "codemirror_mode": {
    "name": "ipython",
    "version": 3
   },
   "file_extension": ".py",
   "mimetype": "text/x-python",
   "name": "python",
   "nbconvert_exporter": "python",
   "pygments_lexer": "ipython3",
   "version": "3.7.3"
  }
 },
 "nbformat": 4,
 "nbformat_minor": 4
}
